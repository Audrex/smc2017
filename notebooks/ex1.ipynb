{
 "cells": [
  {
   "cell_type": "markdown",
   "metadata": {},
   "source": [
    "# SMC2017: Exercise set I\n",
    "\n",
    "## Setup"
   ]
  },
  {
   "cell_type": "code",
   "execution_count": 123,
   "metadata": {
    "collapsed": true
   },
   "outputs": [],
   "source": [
    "import numpy as np\n",
    "from scipy import stats\n",
    "import pandas as pd\n",
    "\n",
    "%matplotlib inline\n",
    "import matplotlib.pyplot as plt\n",
    "import seaborn as sns\n",
    "\n",
    "sns.set_style()"
   ]
  },
  {
   "cell_type": "markdown",
   "metadata": {},
   "source": [
    "## I.1 Importance sampling\n",
    "\n",
    "$q(x) = N(x; 0, 1)$ and $\\pi(x) = U(x; [0, 4])$"
   ]
  },
  {
   "cell_type": "markdown",
   "metadata": {},
   "source": [
    "a) $q(x) > 0$ for all $x$. This is important since $\\pi(x) > 0$ for $x \\in [0, 4]$\n",
    "\n",
    "b) Implement an importance sampler"
   ]
  },
  {
   "cell_type": "code",
   "execution_count": 48,
   "metadata": {
    "collapsed": true
   },
   "outputs": [],
   "source": [
    "def target_exact(x):\n",
    "    if x >= 0.0 and x <= 4.0:\n",
    "        return 0.25\n",
    "    else:\n",
    "        return 0.0\n",
    "    \n",
    "def target_prop(x):\n",
    "    if x >= 0.0 and x <= 4.0:\n",
    "        return 1.0\n",
    "    else:\n",
    "        return 0.0\n",
    "\n",
    "def imp_sample_exact(N, loc=0.0, scale=1.0):\n",
    "    # Sample from the proposal\n",
    "    samples = stats.norm.rvs(loc, scale, N)\n",
    "    # Calculate the exact weights\n",
    "    weights = np.vectorize(target_exact)(samples) / \\\n",
    "              stats.norm.pdf(samples, loc=loc, scale=scale)\n",
    "    \n",
    "    return samples, weights\n",
    "\n",
    "def imp_sample_prop(N, loc=0.0, scale=1.0):\n",
    "    # Sample from the proposal\n",
    "    samples = stats.norm.rvs(loc, scale, N)\n",
    "    # Calculate the weights\n",
    "    weights = np.vectorize(target_prop)(samples) / \\\n",
    "              stats.norm.pdf(samples, loc=loc, scale=scale)\n",
    "    # Normalize the weights\n",
    "    weights_normalized = weights / np.sum(weights)\n",
    "    \n",
    "    return samples, weights, weights_normalized"
   ]
  },
  {
   "cell_type": "markdown",
   "metadata": {},
   "source": [
    "Plot the resulting distribution as a weighted histogram"
   ]
  },
  {
   "cell_type": "code",
   "execution_count": 49,
   "metadata": {},
   "outputs": [
    {
     "data": {
      "image/png": "[encoded data removed]",
      "text/plain": [
       "<matplotlib.figure.Figure at 0x1f9ed6dd828>"
      ]
     },
     "metadata": {},
     "output_type": "display_data"
    }
   ],
   "source": [
    "fig, axs = plt.subplots(1, 2, figsize=(10, 5))\n",
    "\n",
    "# Self-normalized\n",
    "samples, weights, weights_normalized = imp_sample_prop(10000)\n",
    "axs[0].hist(samples, bins=10, weights=weights_normalized, normed=True);\n",
    "\n",
    "# Exact\n",
    "samples, weights = imp_sample_exact(10000)\n",
    "axs[1].hist(samples, bins=10, weights=weights, normed=True);"
   ]
  },
  {
   "cell_type": "markdown",
   "metadata": {},
   "source": [
    "Problem: Often too little probability on the ends of the uniform probability, probably caused by tail behaviour of the normal distribution.\n",
    "\n",
    "c) Check for bias\n",
    "\n",
    "Calculate mean value of $\\pi(x)$ through importance sampling. Theoretical value: 2"
   ]
  },
  {
   "cell_type": "code",
   "execution_count": 31,
   "metadata": {},
   "outputs": [
    {
     "name": "stdout",
     "output_type": "stream",
     "text": [
      "Average: 2.0115824172268195\n",
      "Bias: 0.01158241722681953\n"
     ]
    },
    {
     "data": {
      "image/png": "[encoded data removed]",
      "text/plain": [
       "<matplotlib.figure.Figure at 0x1f9ed5ebb70>"
      ]
     },
     "metadata": {},
     "output_type": "display_data"
    }
   ],
   "source": [
    "M = 100000\n",
    "exp_vals = np.zeros((M,))\n",
    "\n",
    "for i in range(M):\n",
    "    samples, weights = imp_sample_exact(100)\n",
    "    exp_vals[i] = np.mean(samples * weights)\n",
    "    \n",
    "print(\"Average: {}\".format(exp_vals.mean()))\n",
    "biases = exp_vals - 2\n",
    "print(\"Bias: {}\".format(biases.mean()))\n",
    "\n",
    "fig, ax = plt.subplots()\n",
    "ax.hist(exp_vals, bins=30, normed=True);"
   ]
  },
  {
   "cell_type": "markdown",
   "metadata": {},
   "source": [
    "d) Informal derivation of the estimator\n",
    "$$\\widehat{Z} = \\frac{1}{N} \\sum_{i = 1}^N \\widetilde{W}^i\\quad\\text{where}\\quad\\widetilde{W}^i = \\frac{\\widetilde{\\pi}(X_i)}{q(X_i)}$$\n",
    "\n",
    "We can write\n",
    "$$Z = \\int \\widetilde{\\pi}(x)\\,\\mathrm{d}x = \\int \\frac{\\widetilde{\\pi}(x)}{q(x)} q(x)\\,\\mathrm{d}x$$\n",
    "\n",
    "Replace\n",
    "$$q(x) \\approx \\frac{1}{N} \\sum_{i = 1}^N \\delta_{x^i}(x)\\quad\\text{and}\\quad \\omega(x) = \\frac{\\widetilde{\\pi}(x)}{q(x)}$$\n",
    "where $x^i$ are sampled from $q(x)$. This leads to\n",
    "$$\\widehat{Z} = \\frac{1}{N} \\sum_{i = 1}^{N} \\omega(x^i)$$\n",
    "\n",
    "e) Implement that estimator"
   ]
  },
  {
   "cell_type": "code",
   "execution_count": 39,
   "metadata": {},
   "outputs": [
    {
     "name": "stdout",
     "output_type": "stream",
     "text": [
      "Bias: -0.0006390923472849863\n",
      "Variance: 0.008010708353046802\n"
     ]
    }
   ],
   "source": [
    "M = 8000\n",
    "Z_vals = np.zeros((M,))\n",
    "\n",
    "for i in range(M):\n",
    "    samples, weights, weights_normalized = imp_sample_prop(1000, loc=2, scale=2)\n",
    "    Z_vals[i] = np.mean(weights)\n",
    "    \n",
    "print(\"Bias: {}\".format(Z_vals.mean() - 4))\n",
    "print(\"Variance: {}\".format(Z_vals.var()))"
   ]
  },
  {
   "cell_type": "markdown",
   "metadata": {},
   "source": [
    "Moving the Gaussian more to the midpoint of the uniform distribution reduces the variance to almost zero. Moving it more below 0 or above 4 increases the variance a lot."
   ]
  },
  {
   "cell_type": "markdown",
   "metadata": {
    "collapsed": true
   },
   "source": [
    "f) Bias of mean integral in case of self-normalized importance sampling"
   ]
  },
  {
   "cell_type": "code",
   "execution_count": 44,
   "metadata": {},
   "outputs": [
    {
     "name": "stdout",
     "output_type": "stream",
     "text": [
      "Average: 1.995859059940589\n",
      "Bias: -0.004140940059410954\n"
     ]
    },
    {
     "data": {
      "image/png": "[encoded data removed]",
      "text/plain": [
       "<matplotlib.figure.Figure at 0x1f9edbf9a58>"
      ]
     },
     "metadata": {},
     "output_type": "display_data"
    }
   ],
   "source": [
    "M = 100000\n",
    "exp_vals = np.zeros((M,))\n",
    "\n",
    "for i in range(M):\n",
    "    samples, weights, weights_normalized = imp_sample_prop(200, scale=3)\n",
    "    exp_vals[i] = np.nansum(samples * weights_normalized)\n",
    "    \n",
    "print(\"Average: {}\".format(exp_vals.mean()))\n",
    "biases = exp_vals - 2\n",
    "print(\"Bias: {}\".format(biases.mean()))\n",
    "\n",
    "fig, ax = plt.subplots()\n",
    "ax.hist(exp_vals, bins=30, normed=True);"
   ]
  },
  {
   "cell_type": "markdown",
   "metadata": {},
   "source": [
    "g) Solution to what? The bias correction? Isn't that done anyway? The normalized weights sum to one as far as I can tell..."
   ]
  },
  {
   "cell_type": "markdown",
   "metadata": {},
   "source": [
    "## I.2 Importance sampling in higher dimensions\n",
    "\n",
    "Consider importance sampling in a $D$-dimensional space. Let the proposal $q(x) = N(x; 0, I_D)$ be the $D$-dimensional normal distribution and the target $\\pi(x) = U(x; [-0.5, 0.5]^D)$. Exact evaluation of the target is allowed.\n",
    "\n",
    "This means \n",
    "$$\\pi(x) = \\frac{1}{(0.5 - (-0.5))^D} \\prod_{i = 1}^D 1_{[-0.5, 0.5]}(x_i) = \\prod_{i = 1}^D 1_{[-0.5, 0.5]}(x_i)$$"
   ]
  },
  {
   "cell_type": "code",
   "execution_count": 92,
   "metadata": {
    "collapsed": true
   },
   "outputs": [],
   "source": [
    "def multivariate_uniform_pdf(x, a=-0.5, b=0.5):\n",
    "    if np.alltrue(x >= a) and np.alltrue(x <= b):\n",
    "        return 1\n",
    "    else:\n",
    "        return 0\n",
    "    \n",
    "def imp_sample(N, D):\n",
    "    # Sample from the proposal\n",
    "    samples = stats.multivariate_normal.rvs(np.zeros((D,)), np.identity(D), N)\n",
    "    # Calculate exact weights\n",
    "    weights = np.apply_along_axis(multivariate_uniform_pdf, 1, samples) / \\\n",
    "                stats.multivariate_normal.pdf(samples, mean=np.zeros((D,)), \n",
    "                                              cov=np.identity(D))\n",
    "    \n",
    "    return samples, weights"
   ]
  },
  {
   "cell_type": "markdown",
   "metadata": {},
   "source": [
    "Create a histogram in two dimensions to see if the code works."
   ]
  },
  {
   "cell_type": "code",
   "execution_count": 103,
   "metadata": {},
   "outputs": [
    {
     "data": {
      "image/png": "[encoded data removed]",
      "text/plain": [
       "<matplotlib.figure.Figure at 0x1f9ee204630>"
      ]
     },
     "metadata": {},
     "output_type": "display_data"
    }
   ],
   "source": [
    "N = 8000\n",
    "D = 2\n",
    "\n",
    "fig, ax = plt.subplots()\n",
    "\n",
    "samples, weights = imp_sample(N, D)\n",
    "ax.hist2d(samples[:, 0], samples[:, 1], bins=50, weights=weights);"
   ]
  },
  {
   "cell_type": "markdown",
   "metadata": {},
   "source": [
    "Iterate over the dimension and see how the proportion of non-zero weights develops."
   ]
  },
  {
   "cell_type": "code",
   "execution_count": 120,
   "metadata": {},
   "outputs": [
    {
     "data": {
      "image/png": "[encoded data removed]",
      "text/plain": [
       "<matplotlib.figure.Figure at 0x1f9ed6c8588>"
      ]
     },
     "metadata": {},
     "output_type": "display_data"
    }
   ],
   "source": [
    "N = 10000\n",
    "\n",
    "proportion = []\n",
    "probability = []\n",
    "\n",
    "for D in range(2, 15):\n",
    "    samples, weights = imp_sample(N, D)\n",
    "    proportion.append(len(weights[weights != 0.0]) / len(weights))\n",
    "    probability.append(\n",
    "        stats.mvn.mvnun(-0.5*np.ones((D,)), 0.5*np.ones((D,)), \n",
    "                        np.zeros((D,)), np.identity(D))[0])\n",
    "    \n",
    "proportion = np.array(proportion)\n",
    "probability = np.array(probability)\n",
    "\n",
    "fig, ax = plt.subplots()\n",
    "ax.plot(range(2, 15), proportion);\n",
    "ax.plot(range(2, 15), probability, 'r');"
   ]
  },
  {
   "cell_type": "code",
   "execution_count": 121,
   "metadata": {},
   "outputs": [
    {
     "data": {
      "text/plain": [
       "array([  1.40800000e-01,   5.72000000e-02,   2.25000000e-02,\n",
       "         8.40000000e-03,   2.70000000e-03,   9.00000000e-04,\n",
       "         4.00000000e-04,   2.00000000e-04,   1.00000000e-04,\n",
       "         0.00000000e+00,   0.00000000e+00,   0.00000000e+00,\n",
       "         0.00000000e+00])"
      ]
     },
     "execution_count": 121,
     "metadata": {},
     "output_type": "execute_result"
    }
   ],
   "source": [
    "proportion"
   ]
  },
  {
   "cell_type": "markdown",
   "metadata": {},
   "source": [
    "It seems that the effective amount of weights with non-zero value very rapidly converges to zero. It is so fast that it could be exponential decrease.\n",
    "\n",
    "Theoretically the weights are\n",
    "$$\\omega(x^i) = \\frac{\\prod_{j = 1}^D I_{[-0.5, 0.5]}(x^i_j)}{\\frac{1}{(2\\pi)^{D/2}} \\exp\\left(-\\frac{1}{2} \\|x^i\\|^2\\right)}.$$\n",
    "\n",
    "With increasing dimension the probability of all components of the sample to be inside of the interval $[-0.5, 0.5]$ get lower and lower. Thus the number of zero samples increases.\n",
    "\n",
    "The probability for all components of a sample from the $D$-dimensional normal distribution to be between $-0.5$ and $0.5$ is\n",
    "$$P(-0.5 \\leq x \\leq 0.5) = P(x \\leq 0.5) - P(x < -0.5) = 2 \\cdot \\Phi_D(0.5) - 1$$.\n",
    "\n",
    "Here it holds that\n",
    "$$\n",
    "\\begin{align}\n",
    "\\Phi_D(z) &= \\int_{-\\infty}^{z_1}\\dots\\int_{-\\infty}^{z_D} \\frac{1}{(2\\pi)^{D/2}} \\exp\\left(-\\frac{1}{2} \\|x\\|^2\\right)\\,\\mathrm{d}x = \\\\\n",
    "&= \\frac{1}{(2\\pi)^{D/2}} \\int_{-\\infty}^{z_1} \\exp\\left(-\\frac{1}{2} x_1^2\\right)\\,\\mathrm{d}x_1\\,\\dots\\,\\int_{-\\infty}^{z_D} \\exp\\left(-\\frac{1}{2} x_D^2\\right)\\,\\mathrm{d}x_D\n",
    "\\end{align}\n",
    "$$\n",
    "and thus\n",
    "$$\\Phi_D(0.5) = \\Phi_1(0.5)^D \\rightarrow 0\\quad\\text{for}\\quad D \\rightarrow \\infty$$\n",
    "since $\\Phi_1(0.5) < 1$. This explains why the decrease is exponentially fast."
   ]
  },
  {
   "cell_type": "code",
   "execution_count": 122,
   "metadata": {},
   "outputs": [
    {
     "data": {
      "text/plain": [
       "0.69146246127401312"
      ]
     },
     "execution_count": 122,
     "metadata": {},
     "output_type": "execute_result"
    }
   ],
   "source": [
    "stats.norm.cdf(0.5)"
   ]
  },
  {
   "cell_type": "markdown",
   "metadata": {},
   "source": [
    "## I.3 An important numerical aspect\n",
    "\n",
    "Skip for now..."
   ]
  },
  {
   "cell_type": "markdown",
   "metadata": {},
   "source": [
    "## I.4 Bootstrap particle filter for the stochastic volatility model\n",
    "\n",
    "Consider the stochastic volatility model\n",
    "$$\n",
    "\\begin{align}\n",
    "x_t|x_{t - 1} &\\sim N(x_t; \\phi \\cdot x_{t - 1}, \\sigma^2) \\\\\n",
    "y_t|x_t &\\sim N(y_t; 0, \\beta^2 \\cdot \\exp(x_t))\n",
    "\\end{align}\n",
    "$$\n",
    "with parameter vector $\\theta = (\\phi, \\sigma, \\beta)$."
   ]
  },
  {
   "cell_type": "code",
   "execution_count": 133,
   "metadata": {},
   "outputs": [
    {
     "data": {
      "text/plain": [
       "[<matplotlib.lines.Line2D at 0x1f9ed97c320>]"
      ]
     },
     "execution_count": 133,
     "metadata": {},
     "output_type": "execute_result"
    },
    {
     "data": {
      "image/png": "[encoded data removed]",
      "text/plain": [
       "<matplotlib.figure.Figure at 0x1f9ed97c8d0>"
      ]
     },
     "metadata": {},
     "output_type": "display_data"
    }
   ],
   "source": [
    "data = pd.read_csv('..\\\\base_material\\\\seOMXlogreturns2012to2014.csv', \n",
    "                   header=None, names=['logreturn'])\n",
    "fig, ax = plt.subplots()\n",
    "ax.plot(data.logreturn)"
   ]
  },
  {
   "cell_type": "markdown",
   "metadata": {},
   "source": [
    "Assume the parameter vector is given as $\\theta = (0.98, 0.16, 0.70)$. "
   ]
  }
 ],
 "metadata": {
  "kernelspec": {
   "display_name": "Python [conda root]",
   "language": "python",
   "name": "conda-root-py"
  },
  "language_info": {
   "codemirror_mode": {
    "name": "ipython",
    "version": 3
   },
   "file_extension": ".py",
   "mimetype": "text/x-python",
   "name": "python",
   "nbconvert_exporter": "python",
   "pygments_lexer": "ipython3",
   "version": "3.6.2"
  }
 },
 "nbformat": 4,
 "nbformat_minor": 2
}
