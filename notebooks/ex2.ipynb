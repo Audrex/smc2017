{
 "cells": [
  {
   "cell_type": "markdown",
   "metadata": {},
   "source": [
    "# SMC2017: Exercise set 2"
   ]
  },
  {
   "cell_type": "markdown",
   "metadata": {},
   "source": [
    "## II.1 Likelihood estimates for the stochastic volatility model\n",
    "\n",
    "Consider the stochastic volatility model\n",
    "$$\n",
    "\\begin{align}\n",
    "x_t | x_{t - 1} &\\sim N(x_t;\\,\\phi \\cdot x_{t - 1},\\,\\sigma^2) \\\\\n",
    "y_t | x_t &\\sim N(y_t;\\, 0,\\,\\beta^2 \\exp(x_t))\n",
    "\\end{align}\n",
    "$$\n",
    "with parameter vector $\\theta = (\\phi, \\sigma, \\beta)$.\n",
    "\n",
    "### a) Likelihood estimation for different values of $\\beta$\n",
    "\n",
    "Consider fixed values for $\\phi = 0.98$ and $\\sigma = 0.16$. $\\beta$ is allowed to vary between 0 and 2."
   ]
  },
  {
   "cell_type": "code",
   "execution_count": null,
   "metadata": {
    "collapsed": true
   },
   "outputs": [],
   "source": [
    "theta = [0.98, 0.16]\n",
    "\n",
    "def likelihood_bootstrap_pf(N, y, beta=0.70):\n",
    "    "
   ]
  }
 ],
 "metadata": {
  "kernelspec": {
   "display_name": "Python [conda root]",
   "language": "python",
   "name": "conda-root-py"
  },
  "language_info": {
   "codemirror_mode": {
    "name": "ipython",
    "version": 3
   },
   "file_extension": ".py",
   "mimetype": "text/x-python",
   "name": "python",
   "nbconvert_exporter": "python",
   "pygments_lexer": "ipython3",
   "version": "3.6.2"
  }
 },
 "nbformat": 4,
 "nbformat_minor": 2
}
