{
 "cells": [
  {
   "cell_type": "markdown",
   "metadata": {},
   "source": [
    "# SMC2017: Preparatory exercises\n",
    "\n",
    "These problems are meant for repetition and to get familiar with some commonly used functions in the chosen language."
   ]
  },
  {
   "cell_type": "markdown",
   "metadata": {},
   "source": [
    "## Setup"
   ]
  },
  {
   "cell_type": "code",
   "execution_count": 8,
   "metadata": {
    "collapsed": true
   },
   "outputs": [],
   "source": [
    "import numpy as np\n",
    "from scipy.stats import norm\n",
    "\n",
    "%matplotlib inline\n",
    "import matplotlib.pyplot as plt\n",
    "import seaborn as sns\n",
    "\n",
    "sns.set_style()"
   ]
  },
  {
   "cell_type": "markdown",
   "metadata": {},
   "source": [
    "## P.1 Random number generation basics\n",
    "\n",
    "### a) Generation of $N(0, 2)$ distributed numbers\n",
    "\n",
    "In the exercise the normal distribution is parametrized by the mean and the variance, i.e. $N(\\mu, \\sigma^2)$. In Numpy and Scipy the normal distribution is parametrized by the mean and the standard deviation, i.e. I will have to generate samples with $\\mu = 0$ and $\\sigma = \\sqrt{2}$."
   ]
  },
  {
   "cell_type": "code",
   "execution_count": 20,
   "metadata": {},
   "outputs": [],
   "source": [
    "samples = norm.rvs(0, np.sqrt(2), 1000)\n",
    "xs = np.arange(-6, 6, 0.05)\n",
    "pdf = norm.pdf(xs, loc=0, scale=np.sqrt(2))"
   ]
  },
  {
   "cell_type": "markdown",
   "metadata": {},
   "source": [
    "Plot the generated samples and the density function."
   ]
  },
  {
   "cell_type": "code",
   "execution_count": 21,
   "metadata": {},
   "outputs": [
    {
     "data": {
      "text/plain": [
       "[<matplotlib.lines.Line2D at 0x1c9e88bd438>]"
      ]
     },
     "execution_count": 21,
     "metadata": {},
     "output_type": "execute_result"
    },
    {
     "data": {
      "image/png": "[encoded data removed]",
      "text/plain": [
       "<matplotlib.figure.Figure at 0x1c9e88bd518>"
      ]
     },
     "metadata": {},
     "output_type": "display_data"
    }
   ],
   "source": [
    "fig, ax = plt.subplots()\n",
    "\n",
    "ax.hist(samples, bins=20, normed=True)\n",
    "ax.plot(xs, pdf)"
   ]
  },
  {
   "cell_type": "markdown",
   "metadata": {},
   "source": [
    "### b) Inverse transform sampling"
   ]
  },
  {
   "cell_type": "markdown",
   "metadata": {},
   "source": [
    "`np.random.rand` generates uniformly distributed samples in the interval $[0, 1)$. Since it is a continuous distribution it does not matter wether 1 is part of the interval or not, since the probability of attaining it is zero anyways."
   ]
  },
  {
   "cell_type": "code",
   "execution_count": 24,
   "metadata": {
    "collapsed": true
   },
   "outputs": [],
   "source": [
    "samples = np.random.rand(1000)\n",
    "transformed_samples = norm.ppf(samples, loc=0, scale=1)\n",
    "\n",
    "xs = np.arange(-4, 4, 0.05)\n",
    "pdf = norm.pdf(xs, loc=0, scale=1)"
   ]
  },
  {
   "cell_type": "markdown",
   "metadata": {},
   "source": [
    "Plot a histogram of the transformed samples and the density function."
   ]
  },
  {
   "cell_type": "code",
   "execution_count": 25,
   "metadata": {},
   "outputs": [
    {
     "data": {
      "text/plain": [
       "[<matplotlib.lines.Line2D at 0x1c9e8d571d0>]"
      ]
     },
     "execution_count": 25,
     "metadata": {},
     "output_type": "execute_result"
    },
    {
     "data": {
      "image/png": "[encoded data removed]",
      "text/plain": [
       "<matplotlib.figure.Figure at 0x1c9e8d57668>"
      ]
     },
     "metadata": {},
     "output_type": "display_data"
    }
   ],
   "source": [
    "fig, ax = plt.subplots()\n",
    "\n",
    "ax.hist(transformed_samples, bins=20, normed=True)\n",
    "ax.plot(xs, pdf)"
   ]
  },
  {
   "cell_type": "markdown",
   "metadata": {},
   "source": [
    "### c) Affine transform\n",
    "\n",
    "For the one-dimensional normal distribution it holds that if $Z \\sim N(0, 1)$ and $a, b \\in \\mathbb{R}$ then $b \\cdot Z + a \\sim N(a, b^2)$, where the normal distribution is parametrized with respect to the variance.\n",
    "\n",
    "To get samples of $N(2, 10)$ from $N(0, 1)$ we have to apply the affine transform $f(z) := \\sqrt{10} \\cdot z + 2$."
   ]
  },
  {
   "cell_type": "code",
   "execution_count": 31,
   "metadata": {},
   "outputs": [],
   "source": [
    "samples = norm.rvs(0, 1, 1000)\n",
    "transformed_samples = 2 + np.sqrt(10) * samples"
   ]
  },
  {
   "cell_type": "markdown",
   "metadata": {},
   "source": [
    "Calculate the variance of the transformed sample to check if the affine transform was chosen right."
   ]
  },
  {
   "cell_type": "code",
   "execution_count": 33,
   "metadata": {},
   "outputs": [
    {
     "data": {
      "text/plain": [
       "10.697041676969741"
      ]
     },
     "execution_count": 33,
     "metadata": {},
     "output_type": "execute_result"
    }
   ],
   "source": [
    "np.var(transformed_samples)"
   ]
  },
  {
   "cell_type": "markdown",
   "metadata": {},
   "source": [
    "This is reasonable close to 10 and the transform is therefore likely to be correct."
   ]
  },
  {
   "cell_type": "markdown",
   "metadata": {},
   "source": [
    "### d) Set the random seed\n",
    "\n",
    "Numpy uses Mersenne Twister as its pseudo-random number generator and offers the function `np.random.seed` to set the random seed. This will also set the seed for the scipy functions since they are based on Numpy."
   ]
  },
  {
   "cell_type": "code",
   "execution_count": 34,
   "metadata": {},
   "outputs": [
    {
     "name": "stdout",
     "output_type": "stream",
     "text": [
      "[-1.02294529 -0.14039799  0.19909227  0.57347598 -0.39457786]\n",
      "[-1.02294529 -0.14039799  0.19909227  0.57347598 -0.39457786]\n"
     ]
    }
   ],
   "source": [
    "np.random.seed(2017)\n",
    "print(np.random.normal(0, 1, 5))\n",
    "np.random.seed(2017)\n",
    "print(norm.rvs(0, 1, 5))"
   ]
  },
  {
   "cell_type": "markdown",
   "metadata": {},
   "source": [
    "## P.2 Compute $\\pi$ using Monte Carlo\n",
    "\n",
    "A simple way to calculate "
   ]
  }
 ],
 "metadata": {
  "kernelspec": {
   "display_name": "Python [conda root]",
   "language": "python",
   "name": "conda-root-py"
  },
  "language_info": {
   "codemirror_mode": {
    "name": "ipython",
    "version": 3
   },
   "file_extension": ".py",
   "mimetype": "text/x-python",
   "name": "python",
   "nbconvert_exporter": "python",
   "pygments_lexer": "ipython3",
   "version": "3.6.2"
  }
 },
 "nbformat": 4,
 "nbformat_minor": 2
}
